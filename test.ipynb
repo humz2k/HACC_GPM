{
 "cells": [
  {
   "cell_type": "code",
   "execution_count": 168,
   "metadata": {},
   "outputs": [],
   "source": [
    "import matplotlib.pyplot as plt\n",
    "import numpy as np"
   ]
  },
  {
   "cell_type": "code",
   "execution_count": 169,
   "metadata": {},
   "outputs": [],
   "source": [
    "def read_pk(pk):\n",
    "    with open(pk,\"r\") as f:\n",
    "        raw = np.array([[float(j) for j in i.split(\",\")[:2]] for i in f.read().splitlines()])\n",
    "    return raw"
   ]
  },
  {
   "cell_type": "code",
   "execution_count": 170,
   "metadata": {},
   "outputs": [],
   "source": [
    "ini = read_pk(\"runs/test.pk.ini.fold.0\")"
   ]
  },
  {
   "cell_type": "code",
   "execution_count": 181,
   "metadata": {},
   "outputs": [
    {
     "data": {
      "image/png": "[encoded data removed]",
      "text/plain": [
       "<Figure size 432x288 with 1 Axes>"
      ]
     },
     "metadata": {
      "needs_background": "light"
     },
     "output_type": "display_data"
    }
   ],
   "source": [
    "for i in range(625):\n",
    "    try:\n",
    "        ini = read_pk(\"runs/test2.pk.\" + str(i) + \".fold.0\")\n",
    "        ini2 = read_pk(\"runs/test.pk.\" + str(i) + \".fold.0\")\n",
    "        plt.plot(ini[:,0],ini[:,1] - ini2[:,1],color=\"blue\")\n",
    "    except:\n",
    "        pass\n",
    "\n",
    "for i in range(625):\n",
    "    try:\n",
    "        ini = read_pk(\"runs/test.pk.\" + str(i) + \".fold.1\")\n",
    "        #plt.plot(ini[:,0],ini[:,1],color=\"red\")\n",
    "    except:\n",
    "        pass\n",
    "\n",
    "#plt.plot(ini[1][:,0],ini[1][:,1])\n",
    "plt.xscale('log')\n",
    "#plt.yscale('log')\n",
    "plt.show()"
   ]
  },
  {
   "cell_type": "code",
   "execution_count": null,
   "metadata": {},
   "outputs": [],
   "source": []
  },
  {
   "cell_type": "code",
   "execution_count": null,
   "metadata": {},
   "outputs": [],
   "source": []
  },
  {
   "cell_type": "code",
   "execution_count": null,
   "metadata": {},
   "outputs": [],
   "source": []
  }
 ],
 "metadata": {
  "kernelspec": {
   "display_name": "base",
   "language": "python",
   "name": "python3"
  },
  "language_info": {
   "codemirror_mode": {
    "name": "ipython",
    "version": 3
   },
   "file_extension": ".py",
   "mimetype": "text/x-python",
   "name": "python",
   "nbconvert_exporter": "python",
   "pygments_lexer": "ipython3",
   "version": "3.9.12"
  },
  "orig_nbformat": 4
 },
 "nbformat": 4,
 "nbformat_minor": 2
}
